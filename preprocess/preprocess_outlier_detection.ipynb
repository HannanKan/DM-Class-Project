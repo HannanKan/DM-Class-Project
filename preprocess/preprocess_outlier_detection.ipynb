{
 "cells": [
  {
   "cell_type": "markdown",
   "metadata": {},
   "source": [
    "[Age preprocessing](#1)"
   ]
  },
  {
   "cell_type": "code",
   "execution_count": 1,
   "metadata": {},
   "outputs": [],
   "source": [
    "import pandas as pd\n",
    "import numpy as np\n",
    "%matplotlib inline\n",
    "import matplotlib.pyplot as plt\n"
   ]
  },
  {
   "cell_type": "code",
   "execution_count": 2,
   "metadata": {},
   "outputs": [
    {
     "data": {
      "text/html": [
       "<div>\n",
       "<style scoped>\n",
       "    .dataframe tbody tr th:only-of-type {\n",
       "        vertical-align: middle;\n",
       "    }\n",
       "\n",
       "    .dataframe tbody tr th {\n",
       "        vertical-align: top;\n",
       "    }\n",
       "\n",
       "    .dataframe thead th {\n",
       "        text-align: right;\n",
       "    }\n",
       "</style>\n",
       "<table border=\"1\" class=\"dataframe\">\n",
       "  <thead>\n",
       "    <tr style=\"text-align: right;\">\n",
       "      <th></th>\n",
       "      <th>uid</th>\n",
       "      <th>age</th>\n",
       "      <th>gender</th>\n",
       "      <th>marriageStatus</th>\n",
       "      <th>education</th>\n",
       "      <th>consumptionAbility</th>\n",
       "      <th>LBS</th>\n",
       "      <th>interest1</th>\n",
       "      <th>interest5</th>\n",
       "      <th>kw1</th>\n",
       "      <th>...</th>\n",
       "      <th>os</th>\n",
       "      <th>carrier</th>\n",
       "      <th>interest2</th>\n",
       "      <th>interest3</th>\n",
       "      <th>interest4</th>\n",
       "      <th>kw3</th>\n",
       "      <th>topic3</th>\n",
       "      <th>appIdInstall</th>\n",
       "      <th>appIdAction</th>\n",
       "      <th>house</th>\n",
       "    </tr>\n",
       "  </thead>\n",
       "  <tbody>\n",
       "    <tr>\n",
       "      <th>0</th>\n",
       "      <td>44661871</td>\n",
       "      <td>5</td>\n",
       "      <td>1</td>\n",
       "      <td>11</td>\n",
       "      <td>7</td>\n",
       "      <td>1</td>\n",
       "      <td>458.0</td>\n",
       "      <td>93 70 4 75 29 49 27 6 42 73 19 46 56 36 66 11 ...</td>\n",
       "      <td>77 52 100 72 131 37 116 4 79 71 109 8 69 41 6 ...</td>\n",
       "      <td>324391 665516 624687 68812 317814</td>\n",
       "      <td>...</td>\n",
       "      <td>2</td>\n",
       "      <td>1</td>\n",
       "      <td>NaN</td>\n",
       "      <td>NaN</td>\n",
       "      <td>NaN</td>\n",
       "      <td>NaN</td>\n",
       "      <td>NaN</td>\n",
       "      <td>NaN</td>\n",
       "      <td>NaN</td>\n",
       "      <td>NaN</td>\n",
       "    </tr>\n",
       "    <tr>\n",
       "      <th>1</th>\n",
       "      <td>3036658</td>\n",
       "      <td>3</td>\n",
       "      <td>1</td>\n",
       "      <td>11</td>\n",
       "      <td>7</td>\n",
       "      <td>1</td>\n",
       "      <td>682.0</td>\n",
       "      <td>93 70 77 86 109 98 75 8 29 49 27 6 42 104 53 4...</td>\n",
       "      <td>100 72 80 131 37 116 108 79 29 8 113 6 132 42 ...</td>\n",
       "      <td>775554 90974 493747 150923 440763</td>\n",
       "      <td>...</td>\n",
       "      <td>1</td>\n",
       "      <td>1</td>\n",
       "      <td>47 22 58 24 79 73 9 46 32 70 20 6 33 50 49 30 ...</td>\n",
       "      <td>NaN</td>\n",
       "      <td>NaN</td>\n",
       "      <td>NaN</td>\n",
       "      <td>NaN</td>\n",
       "      <td>NaN</td>\n",
       "      <td>NaN</td>\n",
       "      <td>NaN</td>\n",
       "    </tr>\n",
       "    <tr>\n",
       "      <th>2</th>\n",
       "      <td>77640094</td>\n",
       "      <td>5</td>\n",
       "      <td>2</td>\n",
       "      <td>6 13</td>\n",
       "      <td>7</td>\n",
       "      <td>2</td>\n",
       "      <td>809.0</td>\n",
       "      <td>70 109 47 76 69 28 16 59 49 6 5 73 113 9 17 56...</td>\n",
       "      <td>72 92 37 116 47 78 71 8 30 50 6 111 27 75 46 3...</td>\n",
       "      <td>78223 1119 33249 365112 207605</td>\n",
       "      <td>...</td>\n",
       "      <td>1 2</td>\n",
       "      <td>3</td>\n",
       "      <td>79 46 6 18 29</td>\n",
       "      <td>6 8 10 4 9 1 7 3 5 2</td>\n",
       "      <td>4 10 9 5</td>\n",
       "      <td>36983 29847 9888 51356 55758</td>\n",
       "      <td>5015 2428 8519 5679 2415</td>\n",
       "      <td>61782 7654 22164 56854 17592 16284 51453 61052...</td>\n",
       "      <td>3064 3793 562 3293</td>\n",
       "      <td>NaN</td>\n",
       "    </tr>\n",
       "    <tr>\n",
       "      <th>3</th>\n",
       "      <td>68081558</td>\n",
       "      <td>4</td>\n",
       "      <td>1</td>\n",
       "      <td>10</td>\n",
       "      <td>2</td>\n",
       "      <td>0</td>\n",
       "      <td>774.0</td>\n",
       "      <td>NaN</td>\n",
       "      <td>NaN</td>\n",
       "      <td>NaN</td>\n",
       "      <td>...</td>\n",
       "      <td>2</td>\n",
       "      <td>0</td>\n",
       "      <td>NaN</td>\n",
       "      <td>NaN</td>\n",
       "      <td>NaN</td>\n",
       "      <td>NaN</td>\n",
       "      <td>NaN</td>\n",
       "      <td>NaN</td>\n",
       "      <td>NaN</td>\n",
       "      <td>NaN</td>\n",
       "    </tr>\n",
       "    <tr>\n",
       "      <th>4</th>\n",
       "      <td>61893495</td>\n",
       "      <td>2</td>\n",
       "      <td>1</td>\n",
       "      <td>10</td>\n",
       "      <td>5</td>\n",
       "      <td>1</td>\n",
       "      <td>176.0</td>\n",
       "      <td>70 77 86 118 109 76 69 28 8 59 49 15 83 6 39 4...</td>\n",
       "      <td>72 80 116 101 79 109 113 50 73 6 46 121 60 129</td>\n",
       "      <td>150800 131835 256971 635286 396242</td>\n",
       "      <td>...</td>\n",
       "      <td>1</td>\n",
       "      <td>1</td>\n",
       "      <td>73 70 21 74 10 35</td>\n",
       "      <td>NaN</td>\n",
       "      <td>NaN</td>\n",
       "      <td>NaN</td>\n",
       "      <td>NaN</td>\n",
       "      <td>NaN</td>\n",
       "      <td>NaN</td>\n",
       "      <td>1.0</td>\n",
       "    </tr>\n",
       "  </tbody>\n",
       "</table>\n",
       "<p>5 rows × 24 columns</p>\n",
       "</div>"
      ],
      "text/plain": [
       "        uid  age  gender marriageStatus  education  consumptionAbility    LBS  \\\n",
       "0  44661871    5       1             11          7                   1  458.0   \n",
       "1   3036658    3       1             11          7                   1  682.0   \n",
       "2  77640094    5       2           6 13          7                   2  809.0   \n",
       "3  68081558    4       1             10          2                   0  774.0   \n",
       "4  61893495    2       1             10          5                   1  176.0   \n",
       "\n",
       "                                           interest1  \\\n",
       "0  93 70 4 75 29 49 27 6 42 73 19 46 56 36 66 11 ...   \n",
       "1  93 70 77 86 109 98 75 8 29 49 27 6 42 104 53 4...   \n",
       "2  70 109 47 76 69 28 16 59 49 6 5 73 113 9 17 56...   \n",
       "3                                                NaN   \n",
       "4  70 77 86 118 109 76 69 28 8 59 49 15 83 6 39 4...   \n",
       "\n",
       "                                           interest5  \\\n",
       "0  77 52 100 72 131 37 116 4 79 71 109 8 69 41 6 ...   \n",
       "1  100 72 80 131 37 116 108 79 29 8 113 6 132 42 ...   \n",
       "2  72 92 37 116 47 78 71 8 30 50 6 111 27 75 46 3...   \n",
       "3                                                NaN   \n",
       "4     72 80 116 101 79 109 113 50 73 6 46 121 60 129   \n",
       "\n",
       "                                  kw1  ...   os carrier  \\\n",
       "0   324391 665516 624687 68812 317814  ...    2       1   \n",
       "1   775554 90974 493747 150923 440763  ...    1       1   \n",
       "2      78223 1119 33249 365112 207605  ...  1 2       3   \n",
       "3                                 NaN  ...    2       0   \n",
       "4  150800 131835 256971 635286 396242  ...    1       1   \n",
       "\n",
       "                                           interest2             interest3  \\\n",
       "0                                                NaN                   NaN   \n",
       "1  47 22 58 24 79 73 9 46 32 70 20 6 33 50 49 30 ...                   NaN   \n",
       "2                                      79 46 6 18 29  6 8 10 4 9 1 7 3 5 2   \n",
       "3                                                NaN                   NaN   \n",
       "4                                  73 70 21 74 10 35                   NaN   \n",
       "\n",
       "  interest4                           kw3                    topic3  \\\n",
       "0       NaN                           NaN                       NaN   \n",
       "1       NaN                           NaN                       NaN   \n",
       "2  4 10 9 5  36983 29847 9888 51356 55758  5015 2428 8519 5679 2415   \n",
       "3       NaN                           NaN                       NaN   \n",
       "4       NaN                           NaN                       NaN   \n",
       "\n",
       "                                        appIdInstall         appIdAction house  \n",
       "0                                                NaN                 NaN   NaN  \n",
       "1                                                NaN                 NaN   NaN  \n",
       "2  61782 7654 22164 56854 17592 16284 51453 61052...  3064 3793 562 3293   NaN  \n",
       "3                                                NaN                 NaN   NaN  \n",
       "4                                                NaN                 NaN   1.0  \n",
       "\n",
       "[5 rows x 24 columns]"
      ]
     },
     "execution_count": 2,
     "metadata": {},
     "output_type": "execute_result"
    }
   ],
   "source": [
    "user_feature = pd.read_csv(\"./data/userFeature_1.csv\")\n",
    "user_feature.head()"
   ]
  },
  {
   "cell_type": "code",
   "execution_count": 11,
   "metadata": {},
   "outputs": [
    {
     "data": {
      "text/plain": [
       "uid                     int64\n",
       "age                     int64\n",
       "gender                  int64\n",
       "marriageStatus         object\n",
       "education               int64\n",
       "consumptionAbility      int64\n",
       "LBS                   float64\n",
       "interest1              object\n",
       "interest5              object\n",
       "kw1                    object\n",
       "kw2                    object\n",
       "topic1                 object\n",
       "topic2                 object\n",
       "ct                     object\n",
       "os                     object\n",
       "carrier                 int64\n",
       "interest2              object\n",
       "interest3              object\n",
       "interest4              object\n",
       "kw3                    object\n",
       "topic3                 object\n",
       "appIdInstall           object\n",
       "appIdAction            object\n",
       "house                 float64\n",
       "dtype: object"
      ]
     },
     "execution_count": 11,
     "metadata": {},
     "output_type": "execute_result"
    }
   ],
   "source": [
    "user_feature.dtypes"
   ]
  },
  {
   "cell_type": "code",
   "execution_count": 12,
   "metadata": {},
   "outputs": [
    {
     "data": {
      "text/html": [
       "<div>\n",
       "<style scoped>\n",
       "    .dataframe tbody tr th:only-of-type {\n",
       "        vertical-align: middle;\n",
       "    }\n",
       "\n",
       "    .dataframe tbody tr th {\n",
       "        vertical-align: top;\n",
       "    }\n",
       "\n",
       "    .dataframe thead th {\n",
       "        text-align: right;\n",
       "    }\n",
       "</style>\n",
       "<table border=\"1\" class=\"dataframe\">\n",
       "  <thead>\n",
       "    <tr style=\"text-align: right;\">\n",
       "      <th></th>\n",
       "      <th>uid</th>\n",
       "      <th>age</th>\n",
       "      <th>gender</th>\n",
       "      <th>education</th>\n",
       "      <th>consumptionAbility</th>\n",
       "      <th>LBS</th>\n",
       "      <th>carrier</th>\n",
       "      <th>house</th>\n",
       "    </tr>\n",
       "  </thead>\n",
       "  <tbody>\n",
       "    <tr>\n",
       "      <th>count</th>\n",
       "      <td>1.000000e+06</td>\n",
       "      <td>1000000.000000</td>\n",
       "      <td>1000000.000000</td>\n",
       "      <td>1000000.000000</td>\n",
       "      <td>1000000.000000</td>\n",
       "      <td>999995.000000</td>\n",
       "      <td>1000000.000000</td>\n",
       "      <td>183490.0</td>\n",
       "    </tr>\n",
       "    <tr>\n",
       "      <th>mean</th>\n",
       "      <td>4.122766e+07</td>\n",
       "      <td>3.017360</td>\n",
       "      <td>1.313518</td>\n",
       "      <td>4.529916</td>\n",
       "      <td>0.957719</td>\n",
       "      <td>444.819708</td>\n",
       "      <td>1.096072</td>\n",
       "      <td>1.0</td>\n",
       "    </tr>\n",
       "    <tr>\n",
       "      <th>std</th>\n",
       "      <td>2.382672e+07</td>\n",
       "      <td>1.519447</td>\n",
       "      <td>0.470645</td>\n",
       "      <td>2.441172</td>\n",
       "      <td>0.634720</td>\n",
       "      <td>284.934363</td>\n",
       "      <td>0.960942</td>\n",
       "      <td>0.0</td>\n",
       "    </tr>\n",
       "    <tr>\n",
       "      <th>min</th>\n",
       "      <td>5.300000e+01</td>\n",
       "      <td>0.000000</td>\n",
       "      <td>0.000000</td>\n",
       "      <td>0.000000</td>\n",
       "      <td>0.000000</td>\n",
       "      <td>0.000000</td>\n",
       "      <td>0.000000</td>\n",
       "      <td>1.0</td>\n",
       "    </tr>\n",
       "    <tr>\n",
       "      <th>25%</th>\n",
       "      <td>2.057643e+07</td>\n",
       "      <td>2.000000</td>\n",
       "      <td>1.000000</td>\n",
       "      <td>2.000000</td>\n",
       "      <td>1.000000</td>\n",
       "      <td>192.000000</td>\n",
       "      <td>0.000000</td>\n",
       "      <td>1.0</td>\n",
       "    </tr>\n",
       "    <tr>\n",
       "      <th>50%</th>\n",
       "      <td>4.123557e+07</td>\n",
       "      <td>3.000000</td>\n",
       "      <td>1.000000</td>\n",
       "      <td>6.000000</td>\n",
       "      <td>1.000000</td>\n",
       "      <td>425.000000</td>\n",
       "      <td>1.000000</td>\n",
       "      <td>1.0</td>\n",
       "    </tr>\n",
       "    <tr>\n",
       "      <th>75%</th>\n",
       "      <td>6.183450e+07</td>\n",
       "      <td>4.000000</td>\n",
       "      <td>2.000000</td>\n",
       "      <td>7.000000</td>\n",
       "      <td>1.000000</td>\n",
       "      <td>687.000000</td>\n",
       "      <td>1.000000</td>\n",
       "      <td>1.0</td>\n",
       "    </tr>\n",
       "    <tr>\n",
       "      <th>max</th>\n",
       "      <td>8.254267e+07</td>\n",
       "      <td>5.000000</td>\n",
       "      <td>2.000000</td>\n",
       "      <td>7.000000</td>\n",
       "      <td>2.000000</td>\n",
       "      <td>997.000000</td>\n",
       "      <td>3.000000</td>\n",
       "      <td>1.0</td>\n",
       "    </tr>\n",
       "  </tbody>\n",
       "</table>\n",
       "</div>"
      ],
      "text/plain": [
       "                uid             age          gender       education  \\\n",
       "count  1.000000e+06  1000000.000000  1000000.000000  1000000.000000   \n",
       "mean   4.122766e+07        3.017360        1.313518        4.529916   \n",
       "std    2.382672e+07        1.519447        0.470645        2.441172   \n",
       "min    5.300000e+01        0.000000        0.000000        0.000000   \n",
       "25%    2.057643e+07        2.000000        1.000000        2.000000   \n",
       "50%    4.123557e+07        3.000000        1.000000        6.000000   \n",
       "75%    6.183450e+07        4.000000        2.000000        7.000000   \n",
       "max    8.254267e+07        5.000000        2.000000        7.000000   \n",
       "\n",
       "       consumptionAbility            LBS         carrier     house  \n",
       "count      1000000.000000  999995.000000  1000000.000000  183490.0  \n",
       "mean             0.957719     444.819708        1.096072       1.0  \n",
       "std              0.634720     284.934363        0.960942       0.0  \n",
       "min              0.000000       0.000000        0.000000       1.0  \n",
       "25%              1.000000     192.000000        0.000000       1.0  \n",
       "50%              1.000000     425.000000        1.000000       1.0  \n",
       "75%              1.000000     687.000000        1.000000       1.0  \n",
       "max              2.000000     997.000000        3.000000       1.0  "
      ]
     },
     "execution_count": 12,
     "metadata": {},
     "output_type": "execute_result"
    }
   ],
   "source": [
    "user_feature.describe()"
   ]
  },
  {
   "cell_type": "code",
   "execution_count": 13,
   "metadata": {},
   "outputs": [
    {
     "name": "stdout",
     "output_type": "stream",
     "text": [
      "<class 'pandas.core.frame.DataFrame'>\n",
      "RangeIndex: 1000000 entries, 0 to 999999\n",
      "Data columns (total 24 columns):\n",
      "uid                   1000000 non-null int64\n",
      "age                   1000000 non-null int64\n",
      "gender                1000000 non-null int64\n",
      "marriageStatus        1000000 non-null object\n",
      "education             1000000 non-null int64\n",
      "consumptionAbility    1000000 non-null int64\n",
      "LBS                   999995 non-null float64\n",
      "interest1             914899 non-null object\n",
      "interest5             745389 non-null object\n",
      "kw1                   905594 non-null object\n",
      "kw2                   963266 non-null object\n",
      "topic1                920187 non-null object\n",
      "topic2                961259 non-null object\n",
      "ct                    1000000 non-null object\n",
      "os                    1000000 non-null object\n",
      "carrier               1000000 non-null int64\n",
      "interest2             649150 non-null object\n",
      "interest3             26216 non-null object\n",
      "interest4             14734 non-null object\n",
      "kw3                   45591 non-null object\n",
      "topic3                45694 non-null object\n",
      "appIdInstall          20213 non-null object\n",
      "appIdAction           14783 non-null object\n",
      "house                 183490 non-null float64\n",
      "dtypes: float64(2), int64(6), object(16)\n",
      "memory usage: 183.1+ MB\n"
     ]
    }
   ],
   "source": [
    "user_feature.info()"
   ]
  },
  {
   "cell_type": "code",
   "execution_count": 40,
   "metadata": {
    "scrolled": true
   },
   "outputs": [
    {
     "data": {
      "text/plain": [
       "Text(0.5, 1.0, 'LBS Histogram')"
      ]
     },
     "execution_count": 40,
     "metadata": {},
     "output_type": "execute_result"
    },
    {
     "data": {
      "image/png": "[encoded data removed]",
      "text/plain": [
       "<Figure size 864x1008 with 7 Axes>"
      ]
     },
     "metadata": {
      "needs_background": "light"
     },
     "output_type": "display_data"
    }
   ],
   "source": [
    "# Set up a grid of plots\n",
    "fig = plt.figure(figsize=(12,14)) \n",
    "fig_dims = (4, 2)\n",
    "\n",
    "# age\n",
    "plt.subplot2grid(fig_dims, (0, 0))\n",
    "user_feature['age'].value_counts().plot(kind='bar', title='Age Counts') \n",
    "# gender\n",
    "plt.subplot2grid(fig_dims, (0, 1))\n",
    "user_feature['gender'].value_counts().plot(kind='bar', title='Gender Counts')\n",
    "# education\n",
    "plt.subplot2grid(fig_dims, (1, 0))\n",
    "user_feature['education'].value_counts().plot(kind='bar', title='Education Counts')\n",
    "# consumptionAbility\n",
    "plt.subplot2grid(fig_dims, (1, 1))\n",
    "user_feature['consumptionAbility'].value_counts().plot(kind='bar', title='ConsumptionAbility Counts')\n",
    "# os\n",
    "plt.subplot2grid(fig_dims, (2, 0))\n",
    "user_feature['os'].value_counts().plot(kind='bar', title='OS Counts')\n",
    "# house\n",
    "plt.subplot2grid(fig_dims, (2, 1))\n",
    "user_feature['house'].value_counts().plot(kind='bar', title='House Counts')\n",
    "# LBS histogram\n",
    "plt.subplot2grid(fig_dims, (3, 0))\n",
    "user_feature['LBS'].hist()\n",
    "plt.title('LBS Histogram')"
   ]
  },
  {
   "cell_type": "markdown",
   "metadata": {},
   "source": [
    "<span id=\"1\"><font size=5>Age:</font></span>"
   ]
  },
  {
   "cell_type": "code",
   "execution_count": 39,
   "metadata": {},
   "outputs": [
    {
     "data": {
      "text/plain": [
       "5    241604\n",
       "1    231818\n",
       "2    205705\n",
       "4    205026\n",
       "3    115336\n",
       "0       511\n",
       "Name: age, dtype: int64"
      ]
     },
     "execution_count": 39,
     "metadata": {},
     "output_type": "execute_result"
    }
   ],
   "source": [
    "age = user_feature['age']\n",
    "age.value_counts()"
   ]
  },
  {
   "cell_type": "markdown",
   "metadata": {},
   "source": [
    "这里取值age取值为零的条目远少于其他条目，两个可能：数据分布的问题，切分数据时并没有shuffle；数据本身分布不均匀"
   ]
  },
  {
   "cell_type": "markdown",
   "metadata": {},
   "source": [
    "<span id=\"2\"><font size=5>Gender:</font></span>"
   ]
  },
  {
   "cell_type": "code",
   "execution_count": 34,
   "metadata": {},
   "outputs": [
    {
     "data": {
      "text/plain": [
       "1    680200\n",
       "2    316659\n",
       "0      3141\n",
       "Name: gender, dtype: int64"
      ]
     },
     "execution_count": 34,
     "metadata": {},
     "output_type": "execute_result"
    }
   ],
   "source": [
    "gender = user_feature['gender']\n",
    "gender.value_counts()"
   ]
  },
  {
   "cell_type": "markdown",
   "metadata": {},
   "source": [
    "性别这边按照数据说明，应该只有两个取值，这里感觉像是在搞事情。下面简单做一下联合分析"
   ]
  },
  {
   "cell_type": "code",
   "execution_count": 35,
   "metadata": {},
   "outputs": [
    {
     "data": {
      "text/html": [
       "<div>\n",
       "<style scoped>\n",
       "    .dataframe tbody tr th:only-of-type {\n",
       "        vertical-align: middle;\n",
       "    }\n",
       "\n",
       "    .dataframe tbody tr th {\n",
       "        vertical-align: top;\n",
       "    }\n",
       "\n",
       "    .dataframe thead th {\n",
       "        text-align: right;\n",
       "    }\n",
       "</style>\n",
       "<table border=\"1\" class=\"dataframe\">\n",
       "  <thead>\n",
       "    <tr style=\"text-align: right;\">\n",
       "      <th>education</th>\n",
       "      <th>0</th>\n",
       "      <th>1</th>\n",
       "      <th>2</th>\n",
       "      <th>3</th>\n",
       "      <th>4</th>\n",
       "      <th>5</th>\n",
       "      <th>6</th>\n",
       "      <th>7</th>\n",
       "    </tr>\n",
       "    <tr>\n",
       "      <th>gender</th>\n",
       "      <th></th>\n",
       "      <th></th>\n",
       "      <th></th>\n",
       "      <th></th>\n",
       "      <th></th>\n",
       "      <th></th>\n",
       "      <th></th>\n",
       "      <th></th>\n",
       "    </tr>\n",
       "  </thead>\n",
       "  <tbody>\n",
       "    <tr>\n",
       "      <th>0</th>\n",
       "      <td>1181</td>\n",
       "      <td>270</td>\n",
       "      <td>1130</td>\n",
       "      <td>166</td>\n",
       "      <td>2</td>\n",
       "      <td>4</td>\n",
       "      <td>206</td>\n",
       "      <td>182</td>\n",
       "    </tr>\n",
       "    <tr>\n",
       "      <th>1</th>\n",
       "      <td>6939</td>\n",
       "      <td>84881</td>\n",
       "      <td>162161</td>\n",
       "      <td>30719</td>\n",
       "      <td>8001</td>\n",
       "      <td>23312</td>\n",
       "      <td>117908</td>\n",
       "      <td>246279</td>\n",
       "    </tr>\n",
       "    <tr>\n",
       "      <th>2</th>\n",
       "      <td>1820</td>\n",
       "      <td>34571</td>\n",
       "      <td>81236</td>\n",
       "      <td>15429</td>\n",
       "      <td>3142</td>\n",
       "      <td>10799</td>\n",
       "      <td>54502</td>\n",
       "      <td>115160</td>\n",
       "    </tr>\n",
       "  </tbody>\n",
       "</table>\n",
       "</div>"
      ],
      "text/plain": [
       "education     0      1       2      3     4      5       6       7\n",
       "gender                                                            \n",
       "0          1181    270    1130    166     2      4     206     182\n",
       "1          6939  84881  162161  30719  8001  23312  117908  246279\n",
       "2          1820  34571   81236  15429  3142  10799   54502  115160"
      ]
     },
     "execution_count": 35,
     "metadata": {},
     "output_type": "execute_result"
    }
   ],
   "source": [
    "gender_edu = pd.crosstab(user_feature['gender'], user_feature['education'])\n",
    "gender_edu.head()"
   ]
  },
  {
   "cell_type": "code",
   "execution_count": 36,
   "metadata": {},
   "outputs": [
    {
     "data": {
      "text/plain": [
       "Text(0, 0.5, 'education')"
      ]
     },
     "execution_count": 36,
     "metadata": {},
     "output_type": "execute_result"
    },
    {
     "data": {
      "image/png": "[encoded data removed]",
      "text/plain": [
       "<Figure size 432x288 with 1 Axes>"
      ]
     },
     "metadata": {
      "needs_background": "light"
     },
     "output_type": "display_data"
    }
   ],
   "source": [
    "gender_edu_pct = gender_edu.div(gender_edu.sum(1).astype(float), axis=0)\n",
    "gender_edu_pct.plot(kind='bar', stacked=True, title='Gender with Education')\n",
    "plt.xlabel('gender')\n",
    "plt.ylabel('education')"
   ]
  },
  {
   "cell_type": "markdown",
   "metadata": {},
   "source": [
    "很显然gender 1和2（男/女）和教育程度关系分布几乎一致，但gender为零的用户education主要集中在低层次阶段。有可能在原始数据采集系统中，性别并非必填项，系统采取补0处理。"
   ]
  },
  {
   "cell_type": "code",
   "execution_count": 37,
   "metadata": {},
   "outputs": [
    {
     "data": {
      "text/plain": [
       "Text(0, 0.5, 'consumptionAbility')"
      ]
     },
     "execution_count": 37,
     "metadata": {},
     "output_type": "execute_result"
    },
    {
     "data": {
      "image/png": "[encoded data removed]",
      "text/plain": [
       "<Figure size 432x288 with 1 Axes>"
      ]
     },
     "metadata": {
      "needs_background": "light"
     },
     "output_type": "display_data"
    }
   ],
   "source": [
    "gender_edu = pd.crosstab(user_feature['gender'], user_feature['consumptionAbility'])\n",
    "gender_edu.head()\n",
    "gender_edu_pct = gender_edu.div(gender_edu.sum(1).astype(float), axis=0)\n",
    "gender_edu_pct.plot(kind='bar', stacked=True, title='Gender with ConsumptionAbility')\n",
    "plt.xlabel('gender')\n",
    "plt.ylabel('consumptionAbility')"
   ]
  },
  {
   "cell_type": "markdown",
   "metadata": {},
   "source": [
    "本想通过看消费能力，判断性别，但好像并无法看出什么。所以这个值也不太好具体分配取哪一个值，希望做关联分析的队员可以在这里探讨一下。"
   ]
  },
  {
   "cell_type": "markdown",
   "metadata": {},
   "source": [
    "<span id=\"3\"><font size=5>LBS</font></span>"
   ]
  },
  {
   "cell_type": "code",
   "execution_count": 3,
   "metadata": {},
   "outputs": [
    {
     "data": {
      "text/plain": [
       "0    458.0\n",
       "1    682.0\n",
       "2    809.0\n",
       "3    774.0\n",
       "4    176.0\n",
       "Name: LBS, dtype: float64"
      ]
     },
     "execution_count": 3,
     "metadata": {},
     "output_type": "execute_result"
    }
   ],
   "source": [
    "LBS = user_feature['LBS']\n",
    "LBS.head()"
   ]
  },
  {
   "cell_type": "code",
   "execution_count": 100,
   "metadata": {},
   "outputs": [
    {
     "data": {
      "text/plain": [
       "458.0    32213\n",
       "112.0    28999\n",
       "809.0    28062\n",
       "275.0    25768\n",
       "585.0    25388\n",
       "         ...  \n",
       "26.0         1\n",
       "390.0        1\n",
       "665.0        1\n",
       "97.0         1\n",
       "235.0        1\n",
       "Name: LBS, Length: 651, dtype: int64"
      ]
     },
     "execution_count": 100,
     "metadata": {},
     "output_type": "execute_result"
    }
   ],
   "source": [
    "len(LBS.unique())  # 652-1 nan value\n",
    "LBS.value_counts()"
   ]
  },
  {
   "cell_type": "code",
   "execution_count": 4,
   "metadata": {},
   "outputs": [
    {
     "data": {
      "text/plain": [
       "0"
      ]
     },
     "execution_count": 4,
     "metadata": {},
     "output_type": "execute_result"
    }
   ],
   "source": [
    "LBS.isna().sum()  # 5 nan value\n",
    "LBS = LBS.fillna(LBS.mode().iloc[0])\n",
    "# LBS.isna().sum()\n",
    "user_feature['LBS'] = LBS\n",
    "user_feature['LBS'].isna().sum()"
   ]
  },
  {
   "cell_type": "markdown",
   "metadata": {},
   "source": [
    "只有5个缺失值，相对于整个数据集来说影响很小。这里选取地理位置的众数对缺失值进行补全"
   ]
  },
  {
   "cell_type": "markdown",
   "metadata": {},
   "source": [
    "<span id=\"4\"><font size=5>house</font></span>"
   ]
  },
  {
   "cell_type": "code",
   "execution_count": 5,
   "metadata": {},
   "outputs": [
    {
     "data": {
      "text/plain": [
       "1.0    183490\n",
       "Name: house, dtype: int64"
      ]
     },
     "execution_count": 5,
     "metadata": {},
     "output_type": "execute_result"
    }
   ],
   "source": [
    "house = user_feature['house']\n",
    "house.head()\n",
    "house.value_counts()"
   ]
  },
  {
   "cell_type": "code",
   "execution_count": 6,
   "metadata": {},
   "outputs": [
    {
     "data": {
      "text/plain": [
       "0"
      ]
     },
     "execution_count": 6,
     "metadata": {},
     "output_type": "execute_result"
    }
   ],
   "source": [
    "house.isna().sum() # 816510\n",
    "house = house.fillna(0.0)\n",
    "house.isna().sum()\n",
    "user_feature['house'] = house\n",
    "# user_feature['house'].isna().sum()"
   ]
  },
  {
   "cell_type": "markdown",
   "metadata": {},
   "source": [
    "有80%的缺失值，以0.0填充。"
   ]
  },
  {
   "cell_type": "markdown",
   "metadata": {},
   "source": [
    "<span id=\"5\"><font size=5>other ont_hot feature</font></span>"
   ]
  },
  {
   "cell_type": "markdown",
   "metadata": {},
   "source": [
    "对于 consumptionAbility、carrier没有空值，且都是标准的离散数据类型，不做额外处理。对于ct、os，分析如下：              "
   ]
  },
  {
   "cell_type": "code",
   "execution_count": 103,
   "metadata": {},
   "outputs": [
    {
     "data": {
      "text/plain": [
       "3 1      283648\n",
       "1 3      228051\n",
       "3        143436\n",
       "0        124242\n",
       "3 1 4     28729\n",
       "          ...  \n",
       "4 1 2        54\n",
       "4 2 1        26\n",
       "2 4          24\n",
       "2 4 1        21\n",
       "4 2          18\n",
       "Name: ct, Length: 65, dtype: int64"
      ]
     },
     "execution_count": 103,
     "metadata": {},
     "output_type": "execute_result"
    }
   ],
   "source": [
    "ct = user_feature['ct']\n",
    "ct.value_counts()"
   ]
  },
  {
   "cell_type": "code",
   "execution_count": 104,
   "metadata": {},
   "outputs": [
    {
     "data": {
      "text/plain": [
       "1      586712\n",
       "2      208765\n",
       "0      127653\n",
       "1 2     54708\n",
       "2 1     22162\n",
       "Name: os, dtype: int64"
      ]
     },
     "execution_count": 104,
     "metadata": {},
     "output_type": "execute_result"
    }
   ],
   "source": [
    "os = user_feature['os']\n",
    "os.value_counts()"
   ]
  },
  {
   "cell_type": "markdown",
   "metadata": {},
   "source": [
    "虽然取值类型为object,但多个取值可以理解为用户在该属性上的不同的选择，且顺序是有一定意义的，即代表每种取值的偏好，eg：2 1 != 1 2"
   ]
  },
  {
   "cell_type": "markdown",
   "metadata": {},
   "source": [
    "<span id=\"6\"><font size=5>count feature</font></span>"
   ]
  },
  {
   "cell_type": "code",
   "execution_count": 7,
   "metadata": {},
   "outputs": [],
   "source": [
    "c_features = ['marriageStatus','appIdAction','appIdInstall','interest1','interest2','interest3','interest4','interest5','kw1','kw2','kw3','topic1','topic2','topic3']\n",
    "for f in c_features:\n",
    "    user_feature[f] = user_feature[f].fillna('-1')"
   ]
  },
  {
   "cell_type": "code",
   "execution_count": 8,
   "metadata": {},
   "outputs": [
    {
     "name": "stdout",
     "output_type": "stream",
     "text": [
      "0      11\n",
      "1      11\n",
      "2    6 13\n",
      "3      10\n",
      "4      10\n",
      "Name: marriageStatus, dtype: object\n",
      "10          373526\n",
      "11          316715\n",
      "13 10       122730\n",
      "0            67843\n",
      "13           29119\n",
      "15           23617\n",
      "12 13        16345\n",
      "6 13         14783\n",
      "2 13          9329\n",
      "13 9          9009\n",
      "5 13          7536\n",
      "13 15         6287\n",
      "6 13 9        1476\n",
      "12 13 9        825\n",
      "2 13 9         544\n",
      "5 13 9         276\n",
      "3               17\n",
      "14              12\n",
      "12 13 10         6\n",
      "15 10            4\n",
      "13 15 10         1\n",
      "Name: marriageStatus, dtype: int64\n",
      "{'10', '11', '0', '6', '2', '15', '3', '14', '9', '13', '12', '5'}\n"
     ]
    }
   ],
   "source": [
    "feat = 'marriageStatus'\n",
    "fd = user_feature[feat]\n",
    "print(fd.head())\n",
    "print(fd.value_counts())\n",
    "fd_values = set()\n",
    "for x in fd:\n",
    "    try:\n",
    "        x = x.split()\n",
    "        for p in x:\n",
    "            fd_values.add(p)\n",
    "    except:\n",
    "        print(x)\n",
    "print(fd_values)"
   ]
  },
  {
   "cell_type": "markdown",
   "metadata": {},
   "source": [
    "<span id=\"7\"><font size=5>Vector</font></span>"
   ]
  },
  {
   "cell_type": "code",
   "execution_count": 9,
   "metadata": {},
   "outputs": [],
   "source": [
    "from  sklearn.preprocessing import LabelEncoder,OneHotEncoder\n",
    "from sklearn.feature_extraction.text import CountVectorizer\n",
    "from scipy import sparse"
   ]
  },
  {
   "cell_type": "code",
   "execution_count": 146,
   "metadata": {},
   "outputs": [],
   "source": [
    "onehot_feature = ['age','gender','education','consumptionAbility','LBS','house','os','ct','carrier']\n",
    "for f in onehot_feature:\n",
    "    try:\n",
    "        user_feature[f] = LabelEncoder().fit_transform(user_feature[f].apply(int))\n",
    "    except:\n",
    "        user_feature[f] = LabelEncoder().fit_transform(user_feature[f])"
   ]
  },
  {
   "cell_type": "code",
   "execution_count": 166,
   "metadata": {},
   "outputs": [
    {
     "data": {
      "text/plain": [
       "array([[0., 0., 0., ..., 1., 0., 0.],\n",
       "       [0., 0., 0., ..., 1., 0., 0.],\n",
       "       [0., 0., 0., ..., 0., 0., 1.],\n",
       "       [0., 0., 0., ..., 0., 0., 0.],\n",
       "       [0., 0., 1., ..., 1., 0., 0.]])"
      ]
     },
     "execution_count": 166,
     "metadata": {},
     "output_type": "execute_result"
    }
   ],
   "source": [
    "X_onehot = pd.DataFrame()\n",
    "for f in onehot_feature:\n",
    "    fd = user_feature[f]\n",
    "    encode_matrix = OneHotEncoder(categories='auto').fit_transform(fd.values.reshape(-1,1))\n",
    "    X_onehot = sparse.hstack((X_onehot,encode_matrix))\n",
    "X_onehot.toarray()[:5]"
   ]
  },
  {
   "cell_type": "code",
   "execution_count": 1,
   "metadata": {},
   "outputs": [
    {
     "ename": "NameError",
     "evalue": "name 'pd' is not defined",
     "output_type": "error",
     "traceback": [
      "\u001b[0;31m---------------------------------------------------------------------------\u001b[0m",
      "\u001b[0;31mNameError\u001b[0m                                 Traceback (most recent call last)",
      "\u001b[0;32m<ipython-input-1-48cb6acd1061>\u001b[0m in \u001b[0;36m<module>\u001b[0;34m\u001b[0m\n\u001b[0;32m----> 1\u001b[0;31m \u001b[0mX_count\u001b[0m \u001b[0;34m=\u001b[0m \u001b[0mpd\u001b[0m\u001b[0;34m.\u001b[0m\u001b[0mDataFrame\u001b[0m\u001b[0;34m(\u001b[0m\u001b[0;34m)\u001b[0m\u001b[0;34m\u001b[0m\u001b[0;34m\u001b[0m\u001b[0m\n\u001b[0m\u001b[1;32m      2\u001b[0m \u001b[0mcount_feature\u001b[0m \u001b[0;34m=\u001b[0m \u001b[0;34m[\u001b[0m\u001b[0;34m'marriageStatus'\u001b[0m\u001b[0;34m,\u001b[0m\u001b[0;34m'appIdAction'\u001b[0m\u001b[0;34m,\u001b[0m\u001b[0;34m'appIdInstall'\u001b[0m\u001b[0;34m,\u001b[0m\u001b[0;34m'interest1'\u001b[0m\u001b[0;34m,\u001b[0m\u001b[0;34m'interest2'\u001b[0m\u001b[0;34m,\u001b[0m\u001b[0;34m'interest3'\u001b[0m\u001b[0;34m,\u001b[0m\u001b[0;34m'interest4'\u001b[0m\u001b[0;34m,\u001b[0m\u001b[0;34m'interest5'\u001b[0m\u001b[0;34m,\u001b[0m\u001b[0;34m'kw1'\u001b[0m\u001b[0;34m,\u001b[0m\u001b[0;34m'kw2'\u001b[0m\u001b[0;34m,\u001b[0m\u001b[0;34m'kw3'\u001b[0m\u001b[0;34m,\u001b[0m\u001b[0;34m'topic1'\u001b[0m\u001b[0;34m,\u001b[0m\u001b[0;34m'topic2'\u001b[0m\u001b[0;34m,\u001b[0m\u001b[0;34m'topic3'\u001b[0m\u001b[0;34m]\u001b[0m\u001b[0;34m\u001b[0m\u001b[0;34m\u001b[0m\u001b[0m\n\u001b[1;32m      3\u001b[0m \u001b[0;32mfor\u001b[0m \u001b[0mf\u001b[0m \u001b[0;32min\u001b[0m \u001b[0mcount_feature\u001b[0m\u001b[0;34m:\u001b[0m\u001b[0;34m\u001b[0m\u001b[0;34m\u001b[0m\u001b[0m\n\u001b[1;32m      4\u001b[0m     \u001b[0mfd\u001b[0m \u001b[0;34m=\u001b[0m \u001b[0muser_feature\u001b[0m\u001b[0;34m[\u001b[0m\u001b[0mf\u001b[0m\u001b[0;34m]\u001b[0m\u001b[0;34m\u001b[0m\u001b[0;34m\u001b[0m\u001b[0m\n\u001b[1;32m      5\u001b[0m     \u001b[0mencode_matrix\u001b[0m \u001b[0;34m=\u001b[0m \u001b[0mCountVectorizer\u001b[0m\u001b[0;34m(\u001b[0m\u001b[0;34m)\u001b[0m\u001b[0;34m.\u001b[0m\u001b[0mfit_transform\u001b[0m\u001b[0;34m(\u001b[0m\u001b[0mfd\u001b[0m\u001b[0;34m)\u001b[0m\u001b[0;34m\u001b[0m\u001b[0;34m\u001b[0m\u001b[0m\n",
      "\u001b[0;31mNameError\u001b[0m: name 'pd' is not defined"
     ]
    }
   ],
   "source": [
    "X_count = pd.DataFrame()\n",
    "count_feature = ['marriageStatus','appIdAction','appIdInstall','interest1','interest2','interest3','interest4','interest5','kw1','kw2','kw3','topic1','topic2','topic3']\n",
    "for f in count_feature:\n",
    "    fd = user_feature[f]\n",
    "    encode_matrix = CountVectorizer().fit_transform(fd)\n",
    "    X_count = sparse.hstack((X_count,encode_matrix))\n",
    "X_count.toarray()[:5]"
   ]
  },
  {
   "cell_type": "code",
   "execution_count": null,
   "metadata": {},
   "outputs": [],
   "source": []
  }
 ],
 "metadata": {
  "kernelspec": {
   "display_name": "Python 3",
   "language": "python",
   "name": "python3"
  },
  "language_info": {
   "codemirror_mode": {
    "name": "ipython",
    "version": 3
   },
   "file_extension": ".py",
   "mimetype": "text/x-python",
   "name": "python",
   "nbconvert_exporter": "python",
   "pygments_lexer": "ipython3",
   "version": "3.7.3"
  }
 },
 "nbformat": 4,
 "nbformat_minor": 2
}
